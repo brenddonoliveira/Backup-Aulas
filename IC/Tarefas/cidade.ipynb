{
 "cells": [
  {
   "cell_type": "code",
   "execution_count": null,
   "metadata": {},
   "outputs": [],
   "source": [
    "%pip install osmnx"
   ]
  },
  {
   "cell_type": "code",
   "execution_count": 3,
   "metadata": {},
   "outputs": [
    {
     "ename": "NameError",
     "evalue": "name 'latitude' is not defined",
     "output_type": "error",
     "traceback": [
      "\u001b[1;31m---------------------------------------------------------------------------\u001b[0m",
      "\u001b[1;31mNameError\u001b[0m                                 Traceback (most recent call last)",
      "Cell \u001b[1;32mIn[3], line 3\u001b[0m\n\u001b[0;32m      1\u001b[0m \u001b[39mimport\u001b[39;00m \u001b[39mosmnx\u001b[39;00m \u001b[39mas\u001b[39;00m \u001b[39mox\u001b[39;00m\n\u001b[1;32m----> 3\u001b[0m center_point \u001b[39m=\u001b[39m (latitude, longitude)\n\u001b[0;32m      4\u001b[0m G \u001b[39m=\u001b[39m ox\u001b[39m.\u001b[39mgraph\u001b[39m.\u001b[39mgraph_from_point(center_point, dist\u001b[39m=\u001b[39m\u001b[39m1000\u001b[39m, dist_type\u001b[39m=\u001b[39m\u001b[39m'\u001b[39m\u001b[39mbbox\u001b[39m\u001b[39m'\u001b[39m, network_type\u001b[39m=\u001b[39m\u001b[39m'\u001b[39m\u001b[39mall_private\u001b[39m\u001b[39m'\u001b[39m, simplify\u001b[39m=\u001b[39m\u001b[39mTrue\u001b[39;00m, retain_all\u001b[39m=\u001b[39m\u001b[39mFalse\u001b[39;00m, truncate_by_edge\u001b[39m=\u001b[39m\u001b[39mFalse\u001b[39;00m, clean_periphery\u001b[39m=\u001b[39m\u001b[39mTrue\u001b[39;00m, custom_filter\u001b[39m=\u001b[39m\u001b[39mNone\u001b[39;00m)\n\u001b[0;32m      5\u001b[0m fig, ax \u001b[39m=\u001b[39m ox\u001b[39m.\u001b[39mplot_graph(G, bgcolor\u001b[39m=\u001b[39m\u001b[39m\"\u001b[39m\u001b[39mk\u001b[39m\u001b[39m\"\u001b[39m, figsize \u001b[39m=\u001b[39m (\u001b[39m15\u001b[39m,\u001b[39m15\u001b[39m))\n",
      "\u001b[1;31mNameError\u001b[0m: name 'latitude' is not defined"
     ]
    }
   ],
   "source": [
    "import osmnx as ox\n",
    "\n",
    "center_point = (-22.5077674, -44.0946129)\n",
    "G = ox.graph.graph_from_point(center_point, dist=1000, dist_type='bbox', network_type='all_private', simplify=True, retain_all=False, truncate_by_edge=False, clean_periphery=True, custom_filter=None)\n",
    "fig, ax = ox.plot_graph(G, bgcolor=\"k\", figsize = (15,15))"
   ]
  }
 ],
 "metadata": {
  "kernelspec": {
   "display_name": "Python 3",
   "language": "python",
   "name": "python3"
  },
  "language_info": {
   "codemirror_mode": {
    "name": "ipython",
    "version": 3
   },
   "file_extension": ".py",
   "mimetype": "text/x-python",
   "name": "python",
   "nbconvert_exporter": "python",
   "pygments_lexer": "ipython3",
   "version": "3.11.3"
  },
  "orig_nbformat": 4
 },
 "nbformat": 4,
 "nbformat_minor": 2
}
